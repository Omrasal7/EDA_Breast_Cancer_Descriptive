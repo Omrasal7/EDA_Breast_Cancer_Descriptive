{
  "nbformat": 4,
  "nbformat_minor": 0,
  "metadata": {
    "colab": {
      "provenance": [],
      "include_colab_link": true
    },
    "kernelspec": {
      "name": "python3",
      "display_name": "Python 3"
    },
    "language_info": {
      "name": "python"
    }
  },
  "cells": [
    {
      "cell_type": "markdown",
      "metadata": {
        "id": "view-in-github",
        "colab_type": "text"
      },
      "source": [
        "<a href=\"https://colab.research.google.com/github/Omrasal7/EDA_Breast_Cancer_Descriptive/blob/main/Forbes_highestpaid_athletes.ipynb\" target=\"_parent\"><img src=\"https://colab.research.google.com/assets/colab-badge.svg\" alt=\"Open In Colab\"/></a>"
      ]
    },
    {
      "cell_type": "code",
      "execution_count": null,
      "metadata": {
        "id": "b6au7-ySdA9O"
      },
      "outputs": [],
      "source": [
        "import numpy as np\n",
        "import pandas as pd\n",
        "import matplotlib.pyplot as plt\n",
        "import seaborn as sns\n",
        "from sklearn.preprocessing import LabelEncoder"
      ]
    },
    {
      "cell_type": "markdown",
      "source": [],
      "metadata": {
        "id": "uM9HeNAIXBUF"
      }
    },
    {
      "cell_type": "markdown",
      "source": [
        "DATA Collection"
      ],
      "metadata": {
        "id": "duBQeampeosU"
      }
    },
    {
      "cell_type": "code",
      "source": [
        "Frobes_richest_Atheletes_data=pd.read_csv('/content/forbes.csv')"
      ],
      "metadata": {
        "id": "ZE0deI5vesjv"
      },
      "execution_count": null,
      "outputs": []
    },
    {
      "cell_type": "markdown",
      "source": [
        "# Explorartory data analysis"
      ],
      "metadata": {
        "id": "3JZHFjcafMuF"
      }
    },
    {
      "cell_type": "markdown",
      "source": [],
      "metadata": {
        "id": "L-dXYoaF8bgT"
      }
    },
    {
      "cell_type": "code",
      "source": [
        "Frobes_richest_Atheletes_data.head()"
      ],
      "metadata": {
        "id": "kQOGX9RMfvuJ"
      },
      "execution_count": null,
      "outputs": []
    },
    {
      "cell_type": "code",
      "source": [
        "Frobes_richest_Atheletes_data.info()"
      ],
      "metadata": {
        "id": "gScpv-POgYd3"
      },
      "execution_count": null,
      "outputs": []
    },
    {
      "cell_type": "code",
      "source": [
        "Frobes_richest_Atheletes_data.isnull()"
      ],
      "metadata": {
        "id": "IEct7XcBO-S4"
      },
      "execution_count": null,
      "outputs": []
    },
    {
      "cell_type": "code",
      "source": [
        "Frobes_richest_Atheletes_data.isnull().sum()"
      ],
      "metadata": {
        "id": "IGRT_YsTgs80"
      },
      "execution_count": null,
      "outputs": []
    },
    {
      "cell_type": "code",
      "source": [
        "Frobes_richest_Atheletes_data.Name.unique()"
      ],
      "metadata": {
        "id": "AzvArbYnmYAZ"
      },
      "execution_count": null,
      "outputs": []
    },
    {
      "cell_type": "code",
      "source": [
        "Frobes_richest_Atheletes_data.Sport.unique()"
      ],
      "metadata": {
        "id": "NmDK_l7f2Gor"
      },
      "execution_count": null,
      "outputs": []
    },
    {
      "cell_type": "markdown",
      "source": [],
      "metadata": {
        "id": "P7cCxTTelkDR"
      }
    },
    {
      "cell_type": "code",
      "source": [
        "Frobes_richest_Atheletes_data.groupby('Year')['earnings ($ million)'].sum().sort_values(ascending=False)"
      ],
      "metadata": {
        "id": "YgA9nS174wCG"
      },
      "execution_count": null,
      "outputs": []
    },
    {
      "cell_type": "code",
      "source": [
        "Frobes_richest_Atheletes_data.groupby('Sport')['earnings ($ million)'].sum().sort_values(ascending=False)"
      ],
      "metadata": {
        "id": "M7PafBP35SHD"
      },
      "execution_count": null,
      "outputs": []
    },
    {
      "cell_type": "code",
      "source": [
        "print(\"Number of missing values in 'Previous Year Rank' column:\", Frobes_richest_Atheletes_data['Previous Year Rank'].isnull().sum())\n"
      ],
      "metadata": {
        "id": "NQtgSb9H8RCZ"
      },
      "execution_count": null,
      "outputs": []
    },
    {
      "cell_type": "code",
      "source": [
        "import numpy as np\n",
        "\n",
        "Frobes_richest_Atheletes_data['Previous Year Rank'] = pd.to_numeric(Frobes_richest_Atheletes_data['Previous Year Rank'], errors='coerce')\n"
      ],
      "metadata": {
        "id": "ozhgmifn-DK2"
      },
      "execution_count": null,
      "outputs": []
    },
    {
      "cell_type": "code",
      "source": [
        "Frobes_richest_Atheletes_data['Previous Year Rank'].fillna(Frobes_richest_Atheletes_data['Current Rank'])"
      ],
      "metadata": {
        "id": "DigZ7vil8yhM"
      },
      "execution_count": null,
      "outputs": []
    },
    {
      "cell_type": "code",
      "source": [
        "avg_change = (Frobes_richest_Atheletes_data['Previous Year Rank'] - Frobes_richest_Atheletes_data['Current Rank']).mean()\n",
        "print(\"Average change in rank from previous year:\", avg_change)\n"
      ],
      "metadata": {
        "id": "4Yzl7r0eu7Fg"
      },
      "execution_count": null,
      "outputs": []
    },
    {
      "cell_type": "code",
      "source": [
        "corr = Frobes_richest_Atheletes_data['Previous Year Rank'].corr(Frobes_richest_Atheletes_data['Current Rank'])\n",
        "print(\"Correlation coefficient between Previous Year Rank and Current Rank:\", corr)\n"
      ],
      "metadata": {
        "id": "55ftUMpowDI2"
      },
      "execution_count": null,
      "outputs": []
    },
    {
      "cell_type": "code",
      "source": [
        "improved = Frobes_richest_Atheletes_data[Frobes_richest_Atheletes_data['Previous Year Rank'] > Frobes_richest_Atheletes_data['Current Rank']].shape[0]\n",
        "same = Frobes_richest_Atheletes_data[Frobes_richest_Atheletes_data['Previous Year Rank'] == Frobes_richest_Atheletes_data['Current Rank']].shape[0]\n",
        "decreased = Frobes_richest_Atheletes_data[Frobes_richest_Atheletes_data['Previous Year Rank'] < Frobes_richest_Atheletes_data['Current Rank']].shape[0]\n",
        "plt.bar(['Improved', 'Same', 'Decreased'], [improved, same, decreased])\n",
        "plt.xlabel('Change in Rank')\n",
        "plt.ylabel('Number of Athletes')\n",
        "plt.title('Change in Rank from Previous Year')\n",
        "plt.show()"
      ],
      "metadata": {
        "id": "m04dWcYN_5Bq"
      },
      "execution_count": null,
      "outputs": []
    },
    {
      "cell_type": "code",
      "source": [
        "num_unique_names = len(Frobes_richest_Atheletes_data['Name'].unique())\n",
        "print(\"Number of unique names in the 'Name' column:\", num_unique_names)\n"
      ],
      "metadata": {
        "id": "irZdWjK_BcmG"
      },
      "execution_count": null,
      "outputs": []
    },
    {
      "cell_type": "code",
      "source": [
        "import matplotlib.pyplot as plt\n",
        "\n",
        "# Get the top 10 richest athletes based on their net worth\n",
        "top_10_richest = Frobes_richest_Atheletes_data.groupby('Name')['earnings ($ million)'].max().sort_values(ascending=False)[:10]\n",
        "# Create a bar chart\n",
        "plt.bar(top_10_richest.index, top_10_richest.values)\n",
        "plt.xlabel('Athlete')\n",
        "plt.ylabel('Net Worth (USD)')\n",
        "plt.title('Top 10 Richest Athletes')\n",
        "plt.xticks(rotation=90)\n",
        "plt.show()\n"
      ],
      "metadata": {
        "id": "s0AzwSaUCJBb"
      },
      "execution_count": null,
      "outputs": []
    },
    {
      "cell_type": "code",
      "source": [
        "# visualize Sport according to Earning value\n",
        "s = Frobes_richest_Atheletes_data.groupby('Sport')['earnings ($ million)'].sum().sort_values()\n",
        "s.plot(kind='barh',figsize=(12,7), title='Total athletes Earning values for each Sport');"
      ],
      "metadata": {
        "id": "EQZq_zWpqrdg"
      },
      "execution_count": null,
      "outputs": []
    },
    {
      "cell_type": "code",
      "source": [
        "import matplotlib.pyplot as plt\n",
        "\n",
        "# Group the data by country and calculate the total earnings\n",
        "country_earnings = Frobes_richest_Atheletes_data.groupby('Nationality')['earnings ($ million)'].sum()\n",
        "\n",
        "# Sort the data in descending order\n",
        "country_earnings = country_earnings.sort_values(ascending=False)\n",
        "\n",
        "# Create a bar plot of the data\n",
        "plt.bar(country_earnings.index, country_earnings.values)\n",
        "plt.xticks(rotation=90)\n",
        "plt.xlabel('Nationality')\n",
        "plt.ylabel('Total earnings ($ million)')\n",
        "plt.title('Total earnings of athletes by country')\n",
        "plt.show()\n"
      ],
      "metadata": {
        "id": "f7lWdlQgZc9t"
      },
      "execution_count": null,
      "outputs": []
    },
    {
      "cell_type": "code",
      "source": [
        "arr = Frobes_richest_Atheletes_data.Name.unique()\n",
        "arr"
      ],
      "metadata": {
        "id": "8IDhesEmrwBP"
      },
      "execution_count": null,
      "outputs": []
    },
    {
      "cell_type": "code",
      "source": [
        "\n",
        "# aggregate for each Athletes total earning values across years\n",
        "dic = {}\n",
        "for player in arr:\n",
        "    dic[player] = Frobes_richest_Atheletes_data[Frobes_richest_Atheletes_data['Name'] == player]['earnings ($ million)'].sum()\n",
        "\n",
        "\n",
        "data_items = dic.items()\n",
        "data_list = list(data_items)\n",
        "Frobes_richest_Atheletes_data_res = pd.DataFrame(data_list, columns=['Name','earnings ($ million)'])\n",
        "\n",
        "Frobes_richest_Atheletes_data_res.sort_values(by='earnings ($ million)', ascending=False, inplace=True)\n",
        "Frobes_richest_Atheletes_data_res.head(10)"
      ],
      "metadata": {
        "id": "ssw8WYVurVNi"
      },
      "execution_count": null,
      "outputs": []
    },
    {
      "cell_type": "markdown",
      "source": [
        "## linear regression"
      ],
      "metadata": {
        "id": "EWNkN-WWaOqI"
      }
    },
    {
      "cell_type": "code",
      "source": [
        "from sklearn.model_selection import train_test_split\n",
        "from sklearn.linear_model import LinearRegression\n",
        "\n",
        "# Remove leading and trailing spaces from column name\n",
        "Frobes_richest_Atheletes_data = Frobes_richest_Atheletes_data.rename(columns=lambda x: x.strip())\n",
        "\n",
        "# Split the dataset into training and testing sets\n",
        "X = Frobes_richest_Atheletes_data[['earnings ($ million)']]\n",
        "y = Frobes_richest_Atheletes_data['Current Rank']\n",
        "X_train, X_test, y_train, y_test = train_test_split(X, y, test_size=0.2, random_state=42)\n",
        "\n",
        "# Train a linear regression model\n",
        "reg = LinearRegression()\n",
        "\n",
        "\n",
        "reg.fit(X_train, y_train)\n",
        "\n",
        "# Evaluate the performance of the model on the testing set\n",
        "score = reg.score(X_test, y_test)\n",
        "print('R-squared score:', score)\n"
      ],
      "metadata": {
        "id": "k5inYTaFR7Xp"
      },
      "execution_count": null,
      "outputs": []
    },
    {
      "cell_type": "markdown",
      "source": [
        "##MODEL 1"
      ],
      "metadata": {
        "id": "y_9QPkdLd9Di"
      }
    },
    {
      "cell_type": "code",
      "source": [
        "from sklearn.linear_model import LinearRegression\n",
        "\n",
        "# Get the input from the user\n",
        "athlete_name = input('Enter the name of the athlete: ')\n",
        "athlete_sport = input('Enter the sport of the athlete: ')\n",
        "athlete_nationality = input('Enter the nationality of the athlete: ')\n",
        "athlete_earnings = float(input('Enter the earnings of the athlete ($ million): '))\n",
        "year = int(input('Enter the year to predict the rank for: '))\n",
        "\n",
        "# Filter the data to get only the data for the selected year and sport\n",
        "year_data = Frobes_richest_Atheletes_data[Frobes_richest_Atheletes_data['Year'] == year]\n",
        "\n",
        "rank = (year_data['earnings ($ million)'] < athlete_earnings).sum() + 1\n",
        "predicted_rank=reg.predict([[athlete_earnings]])\n",
        "\n",
        "# Add the athlete's data to the DataFrame\n",
        "new_data = pd.DataFrame({\n",
        "    'Name': [athlete_name],\n",
        "    'Sport': [athlete_sport],\n",
        "    'Nationality': [athlete_nationality],\n",
        "    'earnings ($ million)': [athlete_earnings],\n",
        "    'Year': [year],\n",
        "    'Current Rank': [predicted_rank[0]]\n",
        "})\n",
        "all_data = pd.concat([Frobes_richest_Atheletes_data, new_data], ignore_index=True)\n",
        "\n",
        "# Print the predicted rank and updated DataFrame\n",
        "print('Predicted rank for {} in {}: {}'.format(athlete_name, year, predicted_rank[0]))\n",
        "print(all_data)"
      ],
      "metadata": {
        "id": "rGV7ibPkWfpV"
      },
      "execution_count": null,
      "outputs": []
    },
    {
      "cell_type": "markdown",
      "source": [
        "### MODEL 2"
      ],
      "metadata": {
        "id": "S1XMm1A76xga"
      }
    },
    {
      "cell_type": "code",
      "source": [
        "from sklearn.linear_model import LinearRegression\n",
        "\n",
        "# Get the name of the athlete to predict the income for\n",
        "athlete_name = input('Enter the name of the athlete: ')\n",
        "\n",
        "# Filter the data to get only the data for the selected athlete\n",
        "all_data = pd.concat([Frobes_richest_Atheletes_data, new_data], ignore_index=True)\n",
        "athlete_data = all_data[all_data['Name'] == athlete_name]\n",
        "\n",
        "# Check if data is found for the selected athlete\n",
        "if athlete_data.empty:\n",
        "    print('No data found for {}'.format(athlete_name))\n",
        "else:\n",
        "  # Train a linear regression model on the athlete's earnings history\n",
        "  reg = LinearRegression()\n",
        "  X = athlete_data[['Year']]\n",
        "  y = athlete_data['earnings ($ million)']\n",
        "  reg.fit(X, y)\n",
        "\n",
        "  # Predict the athlete's income for a given year\n",
        "  year = int(input(\"enter year for income prediction:\"))\n",
        "  predicted_income = reg.predict([[year]])\n",
        "\n",
        "# Print the predicted income\n",
        "  print('Predicted income for {} in {}: ${:.2f} million'.format(athlete_name,year, predicted_income[0]))"
      ],
      "metadata": {
        "id": "g2PasXHp8gRi"
      },
      "execution_count": null,
      "outputs": []
    },
    {
      "cell_type": "code",
      "source": [
        "# prompt: sum of first 5 natural number\n",
        "\n",
        "total = 0\n",
        "for i in range(1, 6):\n",
        "  total += i\n",
        "print(\"Sum of first 5 natural numbers:\", total)\n"
      ],
      "metadata": {
        "colab": {
          "base_uri": "https://localhost:8080/"
        },
        "id": "37OZI-pbDe9a",
        "outputId": "d4213c39-1489-4e0e-d5ca-605494b796f0"
      },
      "execution_count": null,
      "outputs": [
        {
          "output_type": "stream",
          "name": "stdout",
          "text": [
            "Sum of first 5 natural numbers: 15\n"
          ]
        }
      ]
    },
    {
      "cell_type": "code",
      "source": [
        "for i in range(4,1,-1):\n"
      ],
      "metadata": {
        "colab": {
          "base_uri": "https://localhost:8080/"
        },
        "id": "tXXYmRLyDj-g",
        "outputId": "ba878fde-cb19-4145-d70c-cfbb3db3a545"
      },
      "execution_count": null,
      "outputs": [
        {
          "output_type": "stream",
          "name": "stdout",
          "text": [
            "2\n"
          ]
        }
      ]
    },
    {
      "cell_type": "code",
      "source": [
        "# prompt: factorial code simper form\n",
        "\n",
        "def factorial(n):\n",
        "  # Initialize the result\n",
        "  result = 1\n",
        "\n",
        "  # Loop through the numbers from 1 to n\n",
        "  for i in range(1, n + 1):\n",
        "    # Multiply the result by the current number\n",
        "    result *= i\n",
        "\n",
        "  # Return the result\n",
        "  return result\n"
      ],
      "metadata": {
        "id": "FHJDpRxvEmWy"
      },
      "execution_count": null,
      "outputs": []
    },
    {
      "cell_type": "code",
      "source": [
        "factorial(4)"
      ],
      "metadata": {
        "colab": {
          "base_uri": "https://localhost:8080/"
        },
        "id": "2Uy5G7XhE40g",
        "outputId": "f1951c1e-81a9-4288-85b5-e4617bbea64b"
      },
      "execution_count": null,
      "outputs": [
        {
          "output_type": "execute_result",
          "data": {
            "text/plain": [
              "24"
            ]
          },
          "metadata": {},
          "execution_count": 4
        }
      ]
    },
    {
      "cell_type": "code",
      "source": [],
      "metadata": {
        "id": "elqxmWPsE7Vm"
      },
      "execution_count": null,
      "outputs": []
    }
  ]
}